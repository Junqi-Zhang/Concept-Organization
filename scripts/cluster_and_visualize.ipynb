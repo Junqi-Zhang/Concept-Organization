{
 "cells": [
  {
   "attachments": {},
   "cell_type": "markdown",
   "metadata": {},
   "source": [
    "1. 载入数据"
   ]
  },
  {
   "cell_type": "code",
   "execution_count": null,
   "metadata": {},
   "outputs": [],
   "source": [
    "import numpy as np\n",
    "import pandas as pd\n",
    "\n",
    "IMAGE_DATA_FILE = \"../data/caltech-256_features.npz\"\n",
    "CLASS_NAME_FILE = \"../data/256_ObjectCategories_map_ZH.csv\"\n",
    "\n",
    "image_data = np.load(IMAGE_DATA_FILE)\n",
    "# print(f\"Components of image_data: {list(image_data.keys())}\")\n",
    "\n",
    "X_vit = image_data.get(\"vit_features\")\n",
    "print(f\"The shape of X_vit is {X_vit.shape}\")\n",
    "\n",
    "X_clip = image_data.get(\"clip_features\")\n",
    "print(f\"The shape of X_clip is {X_clip.shape}\")\n",
    "\n",
    "y = image_data.get(\"labels\")\n",
    "print(f\"The shape of y is {y.shape}\")\n",
    "\n",
    "class_name_df = pd.read_csv(CLASS_NAME_FILE)\n",
    "class_name_map = class_name_df.set_index(\"class\")[\"handle\"].to_dict()"
   ]
  },
  {
   "attachments": {},
   "cell_type": "markdown",
   "metadata": {},
   "source": [
    "2. 数据标准化，分别针对 ViT 和 Clip 两模型的输出特征，在待分析(聚类或可视化)样本集合上，尝试多种强度（对原始特征的影响）不同的标准化手段：\n",
    "    - 无标准化。\n",
    "    - 样本点 L2 范数均值的单位化，即仅放缩两个模型的输出，使全部待分析样本点分布在单位球面附近。\n",
    "    - 各特征的 Standard Scaler, 使全部待分析样本点分布呈近似单位立方体分布, scipy.cluster.vq.whiten or sklearn.preprocessing.StandardScaler。\n",
    "    - PCA/ZCA Whitening。"
   ]
  },
  {
   "cell_type": "code",
   "execution_count": null,
   "metadata": {},
   "outputs": [],
   "source": [
    "from standardization import get_standard_data\n",
    "\n",
    "STANDARD_METHOD = None\n",
    "# STANDARD_METHOD = \"l2_norm\"\n",
    "# STANDARD_METHOD = \"feature_standard\"\n",
    "# STANDARD_METHOD = \"PCA_whiten\"\n",
    "# STANDARD_METHOD = \"ZCA_whiten\"\n",
    "\n",
    "X_vit = get_standard_data(X_vit, STANDARD_METHOD)\n",
    "X_clip = get_standard_data(X_clip, STANDARD_METHOD)"
   ]
  },
  {
   "attachments": {},
   "cell_type": "markdown",
   "metadata": {},
   "source": [
    "3. 获取各类别的表示\n",
    "    - 在数据中剔除“其它”\n",
    "    - 各类别全部样本点的重心。"
   ]
  },
  {
   "cell_type": "code",
   "execution_count": null,
   "metadata": {},
   "outputs": [],
   "source": [
    "labels = np.unique(y)\n",
    "# 最后一类是其它，后续分析应剔除\n",
    "print(f\"The last categoty is \\\"{labels[-1]}\\\".\")\n",
    "not_clutter_index = np.where(y != labels[-1])\n",
    "X_vit = X_vit[not_clutter_index]\n",
    "X_clip = X_clip[not_clutter_index]\n",
    "y = y[not_clutter_index]\n",
    "print(f\"Samples of Category \\\"{labels[-1]}\\\" are removed.\")\n",
    "\n",
    "X_vit_class = np.array([np.mean(X_vit[np.where(y == label)], axis=0)\n",
    "                        for label in labels[:-1]])\n",
    "X_clip_class = np.array([np.mean(X_clip[np.where(y == label)], axis=0)\n",
    "                         for label in labels[:-1]])\n",
    "y_class = np.array([label for label in labels[:-1]])"
   ]
  },
  {
   "attachments": {},
   "cell_type": "markdown",
   "metadata": {},
   "source": [
    "4. 延续之前经验，绘制聚类热度图，便于观察整体。"
   ]
  },
  {
   "cell_type": "code",
   "execution_count": null,
   "metadata": {},
   "outputs": [],
   "source": [
    "import seaborn as sns\n",
    "from seaborn import clustermap\n",
    "from scipy.spatial.distance import pdist, squareform\n",
    "from scipy.cluster.hierarchy import linkage\n",
    "\n",
    "# METRIC = \"euclidean\"\n",
    "METRIC = \"cityblock\"\n",
    "\n",
    "FIGURE_PATH = \"../results/cluster/\"\n",
    "\n",
    "\n",
    "def draw_clustermap(X, y, metric):\n",
    "\n",
    "    y_code_zh = []\n",
    "    for code_en in y:\n",
    "        code, en = code_en.split(\".\")\n",
    "        y_code_zh.append(code+\".\"+class_name_map[en])\n",
    "\n",
    "    X_pdist = pdist(X, metric)\n",
    "    X_linkage = linkage(X_pdist,\n",
    "                        method=\"ward\",\n",
    "                        optimal_ordering=True)\n",
    "    sns.set(font=\"SimHei\")\n",
    "    X_clustermap = clustermap(squareform(X_pdist),\n",
    "                              row_linkage=X_linkage,\n",
    "                              col_linkage=X_linkage,\n",
    "                              figsize=(70, 55),\n",
    "                              dendrogram_ratio=(0.3, 1/11),\n",
    "                              xticklabels=False,\n",
    "                              yticklabels=y_code_zh,\n",
    "                              cbar_pos=None)\n",
    "    return X_clustermap"
   ]
  },
  {
   "cell_type": "code",
   "execution_count": null,
   "metadata": {},
   "outputs": [],
   "source": [
    "\n",
    "FIGURE_FILE = f\"clustermap_vit_&_{STANDARD_METHOD}_&_{METRIC}\"\n",
    "\n",
    "\n",
    "X_vit_clustermap = draw_clustermap(X_vit_class, y_class, METRIC)\n",
    "\n",
    "X_vit_clustermap.fig.suptitle(\n",
    "    FIGURE_FILE,\n",
    "    x=0.5, y=1, va=\"bottom\",\n",
    "    fontsize=60\n",
    ")\n",
    "\n",
    "X_vit_clustermap.savefig(FIGURE_PATH+FIGURE_FILE+\".pdf\", format=\"pdf\")"
   ]
  },
  {
   "cell_type": "code",
   "execution_count": null,
   "metadata": {},
   "outputs": [],
   "source": [
    "\n",
    "FIGURE_FILE = f\"clustermap_clip_&_{STANDARD_METHOD}_&_{METRIC}\"\n",
    "\n",
    "\n",
    "X_clip_clustermap = draw_clustermap(X_clip_class, y_class, METRIC)\n",
    "\n",
    "X_clip_clustermap.fig.suptitle(\n",
    "    FIGURE_FILE,\n",
    "    x=0.5, y=1, va=\"bottom\",\n",
    "    fontsize=60\n",
    ")\n",
    "\n",
    "X_clip_clustermap.savefig(FIGURE_PATH+FIGURE_FILE+\".pdf\", format=\"pdf\")"
   ]
  },
  {
   "attachments": {},
   "cell_type": "markdown",
   "metadata": {},
   "source": [
    "5. 进绘制聚类树"
   ]
  },
  {
   "cell_type": "code",
   "execution_count": null,
   "metadata": {},
   "outputs": [],
   "source": [
    "from scipy.cluster.hierarchy import dendrogram, set_link_color_palette\n",
    "from matplotlib import colormaps, colors\n",
    "import matplotlib.pyplot as plt\n",
    "\n",
    "\n",
    "def draw_dendrogram(X, y, metric, color_threshold):\n",
    "\n",
    "    y_code_zh = []\n",
    "    for code_en in y:\n",
    "        code, en = code_en.split(\".\")\n",
    "        y_code_zh.append(code+\".\"+class_name_map[en])\n",
    "\n",
    "    sns.set(font=\"SimHei\")\n",
    "    plt.figure(figsize=(15, 30))\n",
    "\n",
    "    X_pdist = pdist(X, metric)\n",
    "    X_linkage = linkage(X_pdist,\n",
    "                        method=\"ward\",\n",
    "                        optimal_ordering=True)\n",
    "\n",
    "    cmap = colormaps.get_cmap(\"Dark2\")\n",
    "    cmap_colors = cmap(np.linspace(0, 1, 8))\n",
    "    set_link_color_palette([colors.rgb2hex(rgb[:3]) for rgb in cmap_colors])\n",
    "\n",
    "    X_dendrogram = dendrogram(X_linkage,\n",
    "                              p=5,\n",
    "                              truncate_mode=None,\n",
    "                              color_threshold=color_threshold,\n",
    "                              above_threshold_color=\"silver\",\n",
    "                              orientation=\"left\",\n",
    "                              labels=y_code_zh,\n",
    "                              show_leaf_counts=True,\n",
    "                              leaf_rotation=0,\n",
    "                              show_contracted=True)\n",
    "\n",
    "    set_link_color_palette(None)\n",
    "\n",
    "    return X_dendrogram\n",
    "\n",
    "\n",
    "FIGURE_FILE = f\"dendrogram_clip_&_{STANDARD_METHOD}_preprocess_&_{METRIC}\"\n",
    "X_clip_dendrogram = draw_dendrogram(X_clip_class, y_class, METRIC, 120)\n",
    "plt.title(FIGURE_FILE)\n",
    "# plt.savefig(FIGURE_PATH+FIGURE_FILE+\".pdf\", format=\"pdf\")"
   ]
  },
  {
   "cell_type": "code",
   "execution_count": null,
   "metadata": {},
   "outputs": [],
   "source": [
    "FIGURE_FILE = f\"dendrogram_vit_&_{STANDARD_METHOD}_preprocess_&_{METRIC}\"\n",
    "X_vit_dendrogram = draw_dendrogram(X_vit_class, y_class, METRIC, 0.5)\n",
    "plt.title(FIGURE_FILE)\n",
    "plt.savefig(FIGURE_PATH+FIGURE_FILE+\".pdf\", format=\"pdf\")"
   ]
  }
 ],
 "metadata": {
  "kernelspec": {
   "display_name": "py310base",
   "language": "python",
   "name": "python3"
  },
  "language_info": {
   "codemirror_mode": {
    "name": "ipython",
    "version": 3
   },
   "file_extension": ".py",
   "mimetype": "text/x-python",
   "name": "python",
   "nbconvert_exporter": "python",
   "pygments_lexer": "ipython3",
   "version": "3.10.9"
  },
  "orig_nbformat": 4
 },
 "nbformat": 4,
 "nbformat_minor": 2
}
