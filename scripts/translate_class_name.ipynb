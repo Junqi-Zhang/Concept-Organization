{
 "cells": [
  {
   "attachments": {},
   "cell_type": "markdown",
   "metadata": {},
   "source": [
    "1. 逐条翻译，每个翻译源单独结果文件"
   ]
  },
  {
   "cell_type": "code",
   "execution_count": null,
   "metadata": {},
   "outputs": [],
   "source": [
    "import translators as ts\n",
    "from tqdm import tqdm\n",
    "\n",
    "# TRANSLATOR = \"tencent\"\n",
    "TRANSLATOR = \"sogou\"\n",
    "# TRANSLATOR = \"alibaba\"\n",
    "\n",
    "CID_MAP_FILE = \"../data/256_ObjectCategories_map.csv\"\n",
    "ZH_CID_MAP_FILE = f\"../data/256_ObjectCategories_map_{TRANSLATOR}.csv\"\n",
    "\n",
    "f_r = open(CID_MAP_FILE, \"r\")\n",
    "f_w = open(ZH_CID_MAP_FILE, \"w\")\n",
    "\n",
    "for i, line in tqdm(enumerate(f_r)):\n",
    "    line = line.strip()\n",
    "    if i == 0:\n",
    "        f_w.write(line + \",class_ZH\\n\")\n",
    "        continue\n",
    "    class_name = line.strip().split(\",\")[1]\n",
    "    \n",
    "    # class_name_ZH = ts.tencent(class_name, from_language=\"en\", to_language=\"zh\")\n",
    "    class_name_ZH = ts.sogou(class_name, from_language=\"en\", to_language=\"zh\")\n",
    "    # class_name_ZH = ts.alibaba(class_name, from_language=\"en\", to_language=\"zh\")\n",
    "    \n",
    "    # print(line + \",\" + class_name_ZH + \"\\n\")\n",
    "    f_w.write(line + \",\" + class_name_ZH + \"\\n\")\n",
    "    \n",
    "f_r.close()\n",
    "f_w.close()\n"
   ]
  },
  {
   "attachments": {},
   "cell_type": "markdown",
   "metadata": {},
   "source": [
    "2. dataframe apply 批量翻译，多个翻译源在同一个结果文件中，api不稳定，会导致白跑。避免误操作，整段释释。"
   ]
  },
  {
   "cell_type": "code",
   "execution_count": null,
   "metadata": {},
   "outputs": [],
   "source": [
    "# import translators as ts\n",
    "# import pandas as pd\n",
    "\n",
    "# CID_MAP_FILE = \"../data/256_ObjectCategories_map.csv\"\n",
    "# ZH_CID_MAP_FILE = f\"../data/256_ObjectCategories_map_ZH.csv\"\n",
    "\n",
    "# cid_map_df = pd.read_csv(CID_MAP_FILE, index_col=\"cid\")\n",
    "\n",
    "# cid_map_df[\"sogou\"] = cid_map_df[\"class\"].apply(lambda x: ts.sogou(x, from_language=\"en\", to_language=\"zh\"))\n",
    "# cid_map_df[\"alibaba\"] = cid_map_df[\"class\"].apply(lambda x: ts.alibaba(x, from_language=\"en\", to_language=\"zh\"))\n",
    "# # cid_map_df[\"tencent\"] = cid_map_df[\"class\"].apply(lambda x: ts.tencent(x, from_language=\"en\", to_language=\"zh\"))\n",
    "\n",
    "# cid_map_df.to_csv(ZH_CID_MAP_FILE)\n"
   ]
  }
 ],
 "metadata": {
  "kernelspec": {
   "display_name": "py310base",
   "language": "python",
   "name": "python3"
  },
  "language_info": {
   "name": "python",
   "version": "3.10.9"
  },
  "orig_nbformat": 4
 },
 "nbformat": 4,
 "nbformat_minor": 2
}
