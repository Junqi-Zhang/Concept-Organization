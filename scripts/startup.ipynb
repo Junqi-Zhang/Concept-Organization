{
 "cells": [
  {
   "attachments": {},
   "cell_type": "markdown",
   "metadata": {},
   "source": [
    "1. 预处理类别名称：汉化"
   ]
  },
  {
   "cell_type": "code",
   "execution_count": null,
   "metadata": {},
   "outputs": [],
   "source": [
    "import translators as ts\n",
    "from tqdm import tqdm\n",
    "\n",
    "CID_MAP_FILE = \"../data/256_ObjectCategories_map.csv\"\n",
    "TRANSLATOR = \"sogou\"\n",
    "# TRANSLATOR = \"alibaba\"\n",
    "ZH_CID_MAP_FILE = f\"../data/256_ObjectCategories_map_{TRANSLATOR}.csv\"\n",
    "\n",
    "f_r = open(CID_MAP_FILE, \"r\")\n",
    "f_w = open(ZH_CID_MAP_FILE, \"w\")\n",
    "\n",
    "for i, line in tqdm(enumerate(f_r)):\n",
    "    line = line.strip()\n",
    "    if i == 0:\n",
    "        f_w.write(line + \",class_ZH\\n\")\n",
    "        continue\n",
    "    class_name = line.strip().split(\",\")[1]\n",
    "    class_name_ZH = ts.translate_text(class_name, \n",
    "                                      translator=TRANSLATOR, \n",
    "                                      from_language=\"en\", \n",
    "                                      to_language=\"zh\")\n",
    "    # print(line + \",\" + class_name_ZH + \"\\n\")\n",
    "    f_w.write(line + \",\" + class_name_ZH + \"\\n\")\n",
    "    \n",
    "f_r.close()\n",
    "f_w.close()"
   ]
  },
  {
   "attachments": {},
   "cell_type": "markdown",
   "metadata": {},
   "source": [
    "'apertium',\n",
    "  'argos',\n",
    "  'baidu',\n",
    "  'cloudYi',\n",
    "  'deepl',\n",
    "  'elia',\n",
    "  'iflyrec',\n",
    "  'judic',\n",
    "  'languageWire',\n",
    "  'lingvanex',\n",
    "  'mglip',\n",
    "  'modernMt',\n",
    "  'myMemory',\n",
    "  'papago',\n",
    "  'sogou',\n",
    "  'translateCom',\n",
    "  'utibet'"
   ]
  },
  {
   "cell_type": "code",
   "execution_count": null,
   "metadata": {},
   "outputs": [],
   "source": [
    "import translators as ts\n",
    "import pandas as pd\n",
    "\n",
    "CID_MAP_FILE = \"../data/256_ObjectCategories_map.csv\"\n",
    "ZH_CID_MAP_FILE = f\"../data/256_ObjectCategories_map_ZH.csv\"\n",
    "\n",
    "tranlators = [\"translateCom\"]\n",
    "cid_map_df = pd.read_csv(CID_MAP_FILE, index_col=\"cid\")\n",
    "\n",
    "for translator in tranlators:\n",
    "    cid_map_df[translator] = cid_map_df[\"class\"].apply(lambda x: ts.translate_text(x, translator=translator, from_language=\"en\", to_language=\"zh\"))\n",
    "\n",
    "cid_map_df.to_csv(ZH_CID_MAP_FILE)"
   ]
  },
  {
   "attachments": {},
   "cell_type": "markdown",
   "metadata": {},
   "source": [
    "2. 预处理特征"
   ]
  },
  {
   "cell_type": "code",
   "execution_count": null,
   "metadata": {},
   "outputs": [],
   "source": [
    "import numpy as np\n",
    "\n",
    "IMAGE_DATA_FILE = \"../data/caltech-256_features.npz\"\n",
    "\n",
    "image_data = np.load(IMAGE_DATA_FILE)\n",
    "print(list(image_data.keys()))\n"
   ]
  },
  {
   "cell_type": "code",
   "execution_count": null,
   "metadata": {},
   "outputs": [],
   "source": [
    "X_ViT = image_data.get(\"vit_features\")\n",
    "print(f\"The shape of X_ViT is {X_ViT.shape}\")\n",
    "\n",
    "X_CLIP = image_data.get(\"clip_features\")\n",
    "print(f\"The shape of X_CLIP is {X_CLIP.shape}\")\n",
    "\n",
    "y = image_data.get(\"labels\")\n",
    "print(f\"The shape of y is {y.shape}\")\n"
   ]
  },
  {
   "cell_type": "code",
   "execution_count": null,
   "metadata": {},
   "outputs": [],
   "source": [
    "np.linalg.norm(X, 2, axis=1)"
   ]
  },
  {
   "cell_type": "code",
   "execution_count": null,
   "metadata": {},
   "outputs": [],
   "source": [
    "np.linalg.norm(X_ViT, 2, axis=1)\n"
   ]
  },
  {
   "cell_type": "code",
   "execution_count": null,
   "metadata": {},
   "outputs": [],
   "source": [
    "np.linalg.norm(X_CLIP, 2, axis=1)\n"
   ]
  }
 ],
 "metadata": {
  "kernelspec": {
   "display_name": "py310base",
   "language": "python",
   "name": "python3"
  },
  "language_info": {
   "codemirror_mode": {
    "name": "ipython",
    "version": 3
   },
   "file_extension": ".py",
   "mimetype": "text/x-python",
   "name": "python",
   "nbconvert_exporter": "python",
   "pygments_lexer": "ipython3",
   "version": "3.10.9"
  },
  "orig_nbformat": 4
 },
 "nbformat": 4,
 "nbformat_minor": 2
}
