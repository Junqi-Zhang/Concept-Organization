{
 "cells": [
  {
   "cell_type": "code",
   "execution_count": 1,
   "id": "5744f0ca-f557-4a9e-8637-05064c4f95d8",
   "metadata": {},
   "outputs": [],
   "source": [
    "import numpy as np\n",
    "\n",
    "# Load npz file\n",
    "data = np.load('../data/caltech-256_features.npz')\n",
    "# data = np.load('imagenet_features.npz')\n",
    "\n",
    "# Extract feature and label arrays\n",
    "X_vit = data['vit_features']\n",
    "X_clip = data['clip_features']\n",
    "y = data['labels']\n",
    "\n",
    "labels = np.unique(y)\n",
    "num_classes = len(labels) # 257\n",
    "\n",
    "# Group feature vectors by class label\n",
    "vit_class = [X_vit[np.where(y == label)[0]] for label in labels]\n",
    "clip_class = [X_clip[np.where(y == label)[0]] for label in labels]\n",
    "\n",
    "# Calculate mean vector for each class\n",
    "vit_mean = [np.mean(g, axis=0) for g in vit_class]\n",
    "clip_mean = [np.mean(g, axis=0) for g in clip_class]"
   ]
  },
  {
   "cell_type": "code",
   "execution_count": 2,
   "id": "3dc8bb5e-322e-422a-b1a5-d022d32e8657",
   "metadata": {},
   "outputs": [
    {
     "data": {
      "text/plain": [
       "257"
      ]
     },
     "execution_count": 2,
     "metadata": {},
     "output_type": "execute_result"
    }
   ],
   "source": [
    "num_classes"
   ]
  },
  {
   "cell_type": "code",
   "execution_count": 3,
   "id": "c03f25c0-f98b-4740-a7de-b6987a5f39fb",
   "metadata": {},
   "outputs": [
    {
     "data": {
      "text/plain": [
       "16471.045"
      ]
     },
     "execution_count": 3,
     "metadata": {},
     "output_type": "execute_result"
    }
   ],
   "source": [
    "center = X_vit.mean(0)\n",
    "(center * center).sum()"
   ]
  },
  {
   "cell_type": "code",
   "execution_count": 4,
   "id": "e94e98f9-b600-4164-8ccd-6bb635e3a59d",
   "metadata": {},
   "outputs": [
    {
     "data": {
      "text/plain": [
       "244925.12"
      ]
     },
     "execution_count": 4,
     "metadata": {},
     "output_type": "execute_result"
    }
   ],
   "source": [
    "(X_vit * X_vit).sum(1).max()"
   ]
  },
  {
   "cell_type": "code",
   "execution_count": null,
   "id": "c24a6fdb-87fa-41e9-9256-d52c1e89869b",
   "metadata": {},
   "outputs": [],
   "source": [
    "from scipy.spatial.distance import pdist, squareform\n",
    "\n",
    "# Compute pairwise distance matrix\n",
    "# Convert to square distance matrix\n",
    "vit_distance_matrix = squareform(pdist(vit_mean))\n",
    "clip_distance_matrix = squareform(pdist(clip_mean))"
   ]
  },
  {
   "cell_type": "code",
   "execution_count": null,
   "id": "43731637-1be1-4ff4-aa28-c5b200d864ea",
   "metadata": {},
   "outputs": [],
   "source": [
    "from sklearn.metrics.pairwise import cosine_similarity\n",
    "\n",
    "# Compute pairwise cosine similarities\n",
    "vit_similarities = cosine_similarity(vit_mean)\n",
    "clip_similarities = cosine_similarity(clip_mean)"
   ]
  },
  {
   "cell_type": "code",
   "execution_count": null,
   "id": "6d1b9b85-490d-463d-8d3f-231d49f2343a",
   "metadata": {},
   "outputs": [],
   "source": [
    "import json\n",
    "with open('imagenet_labels.json') as f:\n",
    "    classes = json.load(f)\n",
    "print(classes[:10])"
   ]
  },
  {
   "cell_type": "code",
   "execution_count": null,
   "id": "85deff19-11ba-4b8e-915d-1e1f12ffe83d",
   "metadata": {
    "scrolled": false
   },
   "outputs": [],
   "source": [
    "import pandas as pd\n",
    "import numpy as np\n",
    "import matplotlib.pyplot as plt\n",
    "import mplcursors\n",
    "%matplotlib widget\n",
    "\n",
    "# Load label to class mapping from CSV file\n",
    "class_labels = pd.read_csv('256_ObjectCategories_map.csv')\n",
    "\n",
    "# Get the top 5 distances and corresponding class labels for each class\n",
    "num_top = 5\n",
    "top_distances = np.argsort(clip_distance_matrix, axis=1)[:, :num_top]\n",
    "top_labels = np.array([class_labels.iloc[top_distances[i]]['class'].values for i in range(num_classes)])\n",
    "\n",
    "# Set up plot with larger size\n",
    "fig, ax = plt.subplots(figsize=(15, 10))\n",
    "\n",
    "# Plot similarity matrix\n",
    "im = ax.imshow(clip_distance_matrix)\n",
    "\n",
    "# Add annotations\n",
    "cursor = mplcursors.cursor(im)\n",
    "\n",
    "# Define annotation text\n",
    "annotations = [[f\"{class_labels.iloc[i]['class']}\\n{class_labels.iloc[j]['class']}: {clip_distance_matrix[i,j]:.3f}\"\n",
    "                for j in range(num_classes)] for i in range(num_classes)]\n",
    "\n",
    "# Define annotation position\n",
    "positions = [(j, i) for i in range(num_classes) for j in range(num_classes)]\n",
    "\n",
    "# Add annotations to cursor\n",
    "@cursor.connect(\"add\")\n",
    "def on_add(sel):\n",
    "    idx = sel.target.index\n",
    "    label_i, label_j = class_labels.iloc[positions[idx]].values\n",
    "    top_dist = top_distances[label_i == class_labels.index][0]\n",
    "    top_label = top_labels[label_i == class_labels.index][0]\n",
    "    top_text = '\\n'.join([f\"{class_labels.loc[i]['class']}: {clip_distance_matrix[label_i,i]:.3f}\" for i in top_dist])\n",
    "    text = f\"{label_i}, {label_j}\\n\\n{top_text}\"\n",
    "    sel.annotation.set(text=text, position=(sel.target.coords[0], sel.target.coords[1]), \n",
    "                        ha='left', va='center', fontsize=10)\n",
    "\n",
    "# Set tick labels\n",
    "step = 1\n",
    "ticks = range(num_classes)\n",
    "ax.set_xticks(ticks[::step])\n",
    "ax.set_yticks(ticks)\n",
    "ax.set_xticklabels([class_labels.loc[i]['class'] for i in ticks[::step]], rotation=45, ha='right', fontsize=10)\n",
    "ax.set_yticklabels([class_labels.loc[i]['class'] for i in ticks], fontsize=10)\n",
    "\n",
    "# Set axis labels and title\n",
    "ax.set_xlabel('Class', fontsize=12)\n",
    "ax.set_ylabel('Class', fontsize=12)\n",
    "fig.suptitle('ViT Embedding - dist', fontsize=14)\n",
    "\n",
    "cb = fig.colorbar(im, ax=ax)\n",
    "cb.set_label('Distances')\n",
    "\n",
    "plt.show()"
   ]
  },
  {
   "cell_type": "code",
   "execution_count": null,
   "id": "5fd9059f-3d34-4eaf-b3fd-6ee9e4d470a4",
   "metadata": {},
   "outputs": [],
   "source": [
    "clip_distance_matrix.mean(0)"
   ]
  },
  {
   "cell_type": "code",
   "execution_count": null,
   "id": "9483026b-4550-44f7-a41c-3f120e5e3756",
   "metadata": {},
   "outputs": [],
   "source": [
    "import matplotlib.pyplot as plt\n",
    "\n",
    "# Set up the plot\n",
    "fig, ax = plt.subplots()\n",
    "\n",
    "# Create the histogram\n",
    "ax.hist(clip_distance_matrix[13], bins=20)\n",
    "\n",
    "# Set the axis labels and title\n",
    "ax.set_xlabel('Value')\n",
    "ax.set_ylabel('Count')\n",
    "ax.set_title('Histogram of Values')\n",
    "\n",
    "plt.savefig('clip_dist_hist.png')"
   ]
  },
  {
   "cell_type": "code",
   "execution_count": null,
   "id": "56b122fa-46ab-4125-a116-10adb94480b8",
   "metadata": {},
   "outputs": [],
   "source": [
    "clip_distance_matrix.argmax(0)"
   ]
  },
  {
   "cell_type": "code",
   "execution_count": null,
   "id": "1b3aeeaf-e505-406c-8f18-0b011d5f79b2",
   "metadata": {},
   "outputs": [],
   "source": [
    "clip_matrix = clip_distance_matrix\n",
    "vit_matrix = vit_distance_matrix\n",
    "clip_matrix = clip_similarities\n",
    "vit_matrix = vit_similarities\n",
    "\n",
    "# Read the class-to-label mapping from a CSV file with 'id' and 'class' columns\n",
    "# class_labels = pd.read_csv('256_ObjectCategories_map.csv')\n",
    "\n",
    "# classes = [str(i) + \":\" + class_labels.loc[i]['class'] for i in range(num_classes)]\n",
    "\n",
    "# Find the indices that would sort each row in ascending order\n",
    "clip_indices = np.argsort(-clip_matrix, axis=1)\n",
    "vit_indices = np.argsort(-vit_matrix, axis=1)\n",
    "\n",
    "# Print the top 5 values, corresponding indices, and class labels for each row\n",
    "for i in range(clip_distance_matrix.shape[0]):\n",
    "    print(f\"top5 for class {str(i) + ': ' + classes[i]}\")\n",
    "    print(f\"\\tclip: {[classes[clip_indices[i][j]] for j in range(1,6)]}\")\n",
    "    print(f\"\\tcosine: {[round(clip_matrix[i,clip_indices[i][j]], 3) for j in range(1,6)]}\")\n",
    "    print(f\"\\tViT: {[classes[vit_indices[i][j]] for j in range(1,5)]}\")\n",
    "    print(f\"\\tcosine: {[round(vit_matrix[i,clip_indices[i][j]], 3) for j in range(1,6)]}\")"
   ]
  },
  {
   "cell_type": "code",
   "execution_count": null,
   "id": "c3e6db5e-7a86-489a-a082-7017d6fcc2ee",
   "metadata": {},
   "outputs": [],
   "source": [
    "print(class_labels.columns)"
   ]
  },
  {
   "cell_type": "code",
   "execution_count": null,
   "id": "49dd7484-3f32-4ba9-9c6d-a9f77f27ea67",
   "metadata": {},
   "outputs": [],
   "source": []
  }
 ],
 "metadata": {
  "kernelspec": {
   "display_name": "Python 3 (ipykernel)",
   "language": "python",
   "name": "python3"
  },
  "language_info": {
   "codemirror_mode": {
    "name": "ipython",
    "version": 3
   },
   "file_extension": ".py",
   "mimetype": "text/x-python",
   "name": "python",
   "nbconvert_exporter": "python",
   "pygments_lexer": "ipython3",
   "version": "3.10.9"
  }
 },
 "nbformat": 4,
 "nbformat_minor": 5
}
